{
 "cells": [
  {
   "cell_type": "code",
   "execution_count": null,
   "id": "c9fd9a7f",
   "metadata": {},
   "outputs": [],
   "source": [
    "from IPython.display import Image\n",
    "import pandas as pd"
   ]
  },
  {
   "cell_type": "markdown",
   "id": "936912ad",
   "metadata": {},
   "source": [
    "# Introduction"
   ]
  },
  {
   "cell_type": "markdown",
   "id": "1618f60a",
   "metadata": {},
   "source": [
    "In this notebook we present and analyze the performance of Codenames AI. The experiment consists of 3 parts and focused on different combinations of hyper-parameters, datasets, and algorithms. We hope to optimize the system in both AI-AI and AI-Human communication."
   ]
  },
  {
   "cell_type": "markdown",
   "id": "80db152b",
   "metadata": {},
   "source": [
    "# Hyper-Parameter Tuning"
   ]
  },
  {
   "cell_type": "code",
   "execution_count": null,
   "id": "b43dfb37",
   "metadata": {},
   "outputs": [],
   "source": [
    "Image(filename = \"../figures/conservative_num_turns.png\",\n",
    "     width = 800,\n",
    "     height = 800)"
   ]
  },
  {
   "cell_type": "code",
   "execution_count": null,
   "id": "949e7241",
   "metadata": {},
   "outputs": [],
   "source": [
    "Image(filename = \"../figures/conservative_num_assassin.png\",\n",
    "     width = 800,\n",
    "     height = 800)"
   ]
  },
  {
   "cell_type": "markdown",
   "id": "8fc5515d",
   "metadata": {},
   "source": [
    "# AI-AI Communication"
   ]
  },
  {
   "cell_type": "code",
   "execution_count": null,
   "id": "cc416c7e",
   "metadata": {},
   "outputs": [],
   "source": []
  },
  {
   "cell_type": "code",
   "execution_count": null,
   "id": "a62cead7",
   "metadata": {},
   "outputs": [],
   "source": []
  },
  {
   "cell_type": "markdown",
   "id": "d2c18c23",
   "metadata": {},
   "source": [
    "# AI-Human Communication"
   ]
  },
  {
   "cell_type": "code",
   "execution_count": null,
   "id": "c983226a",
   "metadata": {},
   "outputs": [],
   "source": []
  }
 ],
 "metadata": {
  "kernelspec": {
   "display_name": "Python 3",
   "language": "python",
   "name": "python3"
  },
  "language_info": {
   "codemirror_mode": {
    "name": "ipython",
    "version": 3
   },
   "file_extension": ".py",
   "mimetype": "text/x-python",
   "name": "python",
   "nbconvert_exporter": "python",
   "pygments_lexer": "ipython3",
   "version": "3.9.5"
  }
 },
 "nbformat": 4,
 "nbformat_minor": 5
}
